{
  "metadata": {
    "kernelspec": {
      "name": "python",
      "display_name": "Python (Pyodide)",
      "language": "python"
    },
    "language_info": {
      "codemirror_mode": {
        "name": "python",
        "version": 3
      },
      "file_extension": ".py",
      "mimetype": "text/x-python",
      "name": "python",
      "nbconvert_exporter": "python",
      "pygments_lexer": "ipython3",
      "version": "3.8"
    }
  },
  "nbformat_minor": 4,
  "nbformat": 4,
  "cells": [
    {
      "cell_type": "markdown",
      "source": "# Hi there 👋\n---\n## This is my third assignment in <span style=\"color: blue\"> COMP4381</span>.\n### Name:<span style=\"color: #F41F4E\"> Worood Assi.</span>\n### ID:<span style=\"color: #F41F4E\"> 1210412.</span>\n***",
      "metadata": {}
    },
    {
      "cell_type": "markdown",
      "source": "This cell contains a list of the libraries that were utilized:\n<blockquote>numpy.\n\n",
      "metadata": {}
    },
    {
      "cell_type": "code",
      "source": "import numpy as np\nimport matplotlib.pyplot as plt",
      "metadata": {
        "trusted": true
      },
      "outputs": [],
      "execution_count": 49
    },
    {
      "cell_type": "markdown",
      "source": "Generate a normally distributed sample of size 10,000,000 with mean1500, and standard deviation700, with (1210412) as random seed\n\n<blockquote>The seed function in NumPy sets the random seed, ensuring reproducible random number generation. It controls the sequence of random values generated each time it's called.",
      "metadata": {}
    },
    {
      "cell_type": "code",
      "source": "np.random.seed(1210412)\ndataSet = np.random.normal(loc=1500, scale=700, size=10000000)\nprint(dataSet)",
      "metadata": {
        "trusted": true
      },
      "outputs": [
        {
          "name": "stdout",
          "text": "[ 755.15018244 1709.62844286 1369.39413718 ... 1591.35668058 2558.16957281\n 2688.91603027]\n",
          "output_type": "stream"
        }
      ],
      "execution_count": 7
    },
    {
      "cell_type": "markdown",
      "source": "- In this section, the <span style='font-weight:bold'>choice</span> method is explained, which takes the 'dataSet' array as the first argument and the size of the sample as the second argument, to create samples from the population.\n\n- After that, I calculated the sampling error between the mean value of the sample I created and the mean value of the original population by subtracting the values from each other, then taking the absolute value to obtain positive values to clearer comparison.\n<blockquote><span style='font-weight:bold'>Mean</span> method in Numpy to find the mean value for a set of data.",
      "metadata": {}
    },
    {
      "cell_type": "code",
      "source": "# Generate samples\nsample_10 = np.random.choice(dataSet, 10)\nsample_100 = np.random.choice(dataSet, 100)\nsample_1000 = np.random.choice(dataSet, 1000)\nsample_10000 = np.random.choice(dataSet, 10000)\n\n# Calculate sampling errors\nsampleError_10 = abs(np.mean(sample_10) - np.mean(dataSet))\nsampleError_100 = abs(np.mean(sample_100) - np.mean(dataSet))\nsampleError_1000 = abs(np.mean(sample_1000) - np.mean(dataSet))\nsampleError_10000 = abs(np.mean(sample_10000) - np.mean(dataSet))\n\n# Print sampling errors\nprint(f\"Sampling Error for sample size 10: {sampleError_10}\")\nprint(f\"Sampling Error for sample size 100: {sampleError_100}\")\nprint(f\"Sampling Error for sample size 1000: {sampleError_1000}\")\nprint(f\"Sampling Error for sample size 10000: {sampleError_10000}\")",
      "metadata": {
        "trusted": true
      },
      "outputs": [
        {
          "name": "stdout",
          "text": "Sampling Error for sample size 10: 105.29085131702232\nSampling Error for sample size 100: 18.343354497957534\nSampling Error for sample size 1000: 9.785613792050526\nSampling Error for sample size 10000: 1.9774581798405961\n",
          "output_type": "stream"
        }
      ],
      "execution_count": 38
    },
    {
      "cell_type": "markdown",
      "source": "## What is the relation between the sample size and the sampling error?\n\n- The Sampling error is the difference between a sample \nstatistic and a population parameter that is due t \r\nchance\n\nBased on the previous values, we can conclude that there is an <span style='text-decoration: underline'>inverse relationship</span> between the sample size and the sampling error. This means that as the sample size decreases, the sampling error increases, and as the sample size increases, the sampling error decreases. This is because larger samples contain more data, leading to more accurate results.",
      "metadata": {}
    },
    {
      "cell_type": "markdown",
      "source": "## Which sample is more representative of the population?\n\nBased on the previous answer, the sample that represents the best representation of the population is the largest in size and has the largest number of data points, thus providing a more accurate and closer result to the population. Additionally, this conclusion can be reached by calculating the standard deviation.\nIt is approximately sample_10000.\n- The Standard Deviation is a measure of the amount of variation or dispersion in a set of values.\nTherefore, a sample with a lower standard deviation would be more representative of the population.",
      "metadata": {}
    },
    {
      "cell_type": "code",
      "source": "print(np.std(sample_10))\nprint(np.std(sample_100))\nprint(np.std(sample_1000))\nprint(np.std(sample_10000))",
      "metadata": {
        "trusted": true
      },
      "outputs": [
        {
          "name": "stdout",
          "text": "754.436847955912\n755.9366959347226\n700.8906680442419\n709.4554580675426\n",
          "output_type": "stream"
        }
      ],
      "execution_count": 44
    },
    {
      "cell_type": "markdown",
      "source": "## Use the representative sample I have choose above to answer the following questions:\n\n- Is the sample randomly distributed ?\n\nNo, because a randomly distributed dataset means that the data points are scattered randomly across the possible range without any specific pattern or structure.",
      "metadata": {}
    },
    {
      "cell_type": "code",
      "source": "avg = np.mean(sample_10000)\nmed = np.median(sample_10000)\nstd = np.std(sample_10000)\nprint('mean: ',avg,'median: ', med,'standard deviation: ', std)\nplt.hist(sample_10000);",
      "metadata": {
        "trusted": true
      },
      "outputs": [
        {
          "name": "stdout",
          "text": "mean:  1497.847497121799 median:  1502.268343465959 standard deviation:  709.4554580675426\n",
          "output_type": "stream"
        },
        {
          "output_type": "display_data",
          "data": {
            "text/plain": "<Figure size 640x480 with 1 Axes>",
            "image/png": "[encoded data removed]"
          },
          "metadata": {}
        }
      ],
      "execution_count": 53
    },
    {
      "cell_type": "markdown",
      "source": "- What is the value that 50% of the data below it?\n\n1502.268343465959\n- What is the value that 75% of the data below it?\n\n1972.8047501238757\n- What is the value that 25% of the data below it?\n\n1017.8049843458939\n\n- What are the values calculated in b, c, and d are statistically called ?\n\nb)the median\n\nc)the third quartile\n\nd)the first quartile\n",
      "metadata": {}
    },
    {
      "cell_type": "code",
      "source": "# 50%:\nprint(np.percentile(sample_10000, 50))\n# 75%:\nprint(np.percentile(sample_10000, 75))\n# 25%:\nprint(np.percentile(sample_10000, 25))",
      "metadata": {
        "trusted": true
      },
      "outputs": [
        {
          "name": "stdout",
          "text": "1502.268343465959\n1972.8047501238757\n1017.8049843458939\n",
          "output_type": "stream"
        }
      ],
      "execution_count": 51
    }
  ]
}